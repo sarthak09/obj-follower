{
 "cells": [
  {
   "cell_type": "code",
   "execution_count": 1,
   "metadata": {},
   "outputs": [],
   "source": [
    "#!/usr/bin/python\n",
    "# Import packages\n",
    "import numpy as np\n",
    "import tensorflow as tf\n",
    "import sys\n",
    "import json\n",
    "import paho.mqtt.client as paho\n",
    "import os\n",
    "import socket\n",
    "import ssl\n",
    "from time import sleep\n",
    "from random import uniform\n",
    "import time\n",
    "import datetime\n",
    "import os\n",
    "import cv2\n",
    "from random import uniform\n",
    "import time\n",
    "import datetime"
   ]
  },
  {
   "cell_type": "markdown",
   "metadata": {},
   "source": [
    "### Real time"
   ]
  },
  {
   "cell_type": "code",
   "execution_count": 2,
   "metadata": {},
   "outputs": [],
   "source": [
    "count = 0\n",
    "connflag = False"
   ]
  },
  {
   "cell_type": "code",
   "execution_count": 3,
   "metadata": {},
   "outputs": [],
   "source": [
    "#Defination for connection\n",
    "def on_connect(client, userdata, flags, rc):\n",
    "    global connflag\n",
    "    connflag = True\n",
    "    print(\"Connection returned result: \" + str(rc) )\n",
    "\n",
    "def on_message(client, userdata, msg):\n",
    "    print(msg.topic+\" \"+str(msg.payload))"
   ]
  },
  {
   "cell_type": "code",
   "execution_count": 4,
   "metadata": {},
   "outputs": [],
   "source": [
    "#Init obs for paho mqtt \n",
    "mqttc = paho.Client()\n",
    "mqttc.on_connect = on_connect\n",
    "mqttc.on_message = on_message"
   ]
  },
  {
   "cell_type": "code",
   "execution_count": 5,
   "metadata": {},
   "outputs": [],
   "source": [
    "#Define host and port no\n",
    "host = \"192.168.0.103\"\n",
    "port = 1883"
   ]
  },
  {
   "cell_type": "code",
   "execution_count": 6,
   "metadata": {},
   "outputs": [
    {
     "name": "stdout",
     "output_type": "stream",
     "text": [
      "Connection returned result: 0\n"
     ]
    }
   ],
   "source": [
    "#connect to broker\n",
    "mqttc.connect(host, port, keepalive=60)\n",
    "mqttc.loop_start()"
   ]
  },
  {
   "cell_type": "code",
   "execution_count": 7,
   "metadata": {},
   "outputs": [],
   "source": [
    "# init face harcascade\n",
    "clas = cv2.CascadeClassifier('C:/Users/sarth/Anaconda projects/self projects and others/VGG face/25. Face Recognition/Haarcascades/haarcascade_frontalface_default.xml')\n"
   ]
  },
  {
   "cell_type": "markdown",
   "metadata": {},
   "source": [
    "## Final"
   ]
  },
  {
   "cell_type": "code",
   "execution_count": 8,
   "metadata": {},
   "outputs": [],
   "source": [
    "#Define variables\n",
    "thresh1 = 250\n",
    "thresh2 = 400\n",
    "control = 5  #For division\n",
    "control2 = 8 #for sending data\n",
    "control3 = 25 #for invoking non detection\n",
    "\n",
    "count = 0 \n",
    "count1 = 0\n",
    "count2 = 0\n",
    "val2 = 0\n",
    "val = 90\n",
    "temp = 90\n",
    "cou = True"
   ]
  },
  {
   "cell_type": "code",
   "execution_count": null,
   "metadata": {},
   "outputs": [
    {
     "name": "stderr",
     "output_type": "stream",
     "text": [
      "C:\\Users\\sarth\\Anaconda3\\lib\\site-packages\\ipykernel_launcher.py:55: DeprecationWarning: elementwise comparison failed; this will raise an error in the future.\n"
     ]
    }
   ],
   "source": [
    "#Open Webcam\n",
    "cap = cv2.VideoCapture(1) \n",
    "while(True):\n",
    "    \n",
    "    ret, img = cap.read()\n",
    "    faces2 = clas.detectMultiScale(img, 1.3, 5)\n",
    "    \n",
    "    for (x,y,w,h) in faces2:\n",
    "        if w > 80:\n",
    "            #circle(frame, Point2i(x-coordinate, y-coordinate), 5, Scalar(0,125,230), 4, 3);\n",
    "            cv2.line(img, (thresh1, 0), (thresh1, 480), (10,90,200), 1)\n",
    "            cv2.line(img, (thresh2, 0), (thresh2, 480), (10,90,200), 1)\n",
    "            \n",
    "            cv2.rectangle(img,(x,y),(x+w,y+h),(105,200,100),3) \n",
    "            \n",
    "            x1 = int(x+w/2)-2\n",
    "            y1 = int(y+h/2)-2\n",
    "            \n",
    "            cv2.rectangle(img,(x1,y1),(x1+2,y1+2),(105,200,100),3)\n",
    "            cv2.rectangle(img,(0,240),(0+10,240+20),(140,150,230),5)\n",
    "            cv2.rectangle(img,(640,255),(640-10,255-20),(140,150,230),5)\n",
    "            \n",
    "            #print(x1)       \n",
    "            if x1 < thresh1: ###thresh1 = 180\n",
    "                cv2.putText(img, \"move left\", (155,50), cv2.FONT_HERSHEY_COMPLEX_SMALL, 2,(120,20,255),2)\n",
    "                val = round((thresh1 - x1)/control)\n",
    "                val = abs(temp + val)\n",
    "                \n",
    "                if (connflag == True) and (count >= control2):\n",
    "                    tempreading = uniform(20.0,25.0)\n",
    "                    mqttc.publish(\"Status\", val, qos=1)\n",
    "                    count = 0\n",
    "                    temp = val\n",
    "\n",
    "\n",
    "                \n",
    "            elif x1 > thresh2: ###thresh2 = 460\n",
    "                cv2.putText(img, \"move right\", (155,50), cv2.FONT_HERSHEY_COMPLEX_SMALL, 2,(120,20,255),2)\n",
    "                val = round((thresh2 - x1)/control)\n",
    "                val = abs(temp + val)\n",
    "                if (connflag == True) and (count >= control2):\n",
    "                    tempreading = uniform(20.0,25.0)\n",
    "                    mqttc.publish(\"Status\", val, qos=1)\n",
    "                    count = 0\n",
    "                    temp = val\n",
    "\n",
    "                                    \n",
    "\n",
    "            count += 1\n",
    "            count2 = 0\n",
    "            val2 = 0\n",
    "        #count2 = 0\n",
    "            \n",
    "\n",
    "    if (faces2 == ()) and (count2 >= control3):\n",
    "        cv2.putText(img, \"No Face\", (185,50), cv2.FONT_HERSHEY_COMPLEX_SMALL, 3,(80,130,230),3)\n",
    "        \n",
    "        if cou:\n",
    "            cv2.putText(img, \"Self Rotation Activated\", (55,150), cv2.FONT_HERSHEY_COMPLEX_SMALL , 2, (10,250,30), 3, lineType=True)\n",
    "            cou = False\n",
    "        \n",
    "        elif not cou:\n",
    "            cv2.putText(img, \"\", (55,150), cv2.FONT_HERSHEY_COMPLEX_SMALL, 2,(90,200,60),3, lineType=True)\n",
    "            cou = True\n",
    "\n",
    "        temp = 90\n",
    "        temp2 = 90\n",
    "        if (connflag == True) and (count1 >= 70):\n",
    "            if val2 == 90:\n",
    "                val2 = 40\n",
    "                    \n",
    "            elif val2 == 40:\n",
    "                val2 = 130\n",
    "                \n",
    "            elif val2 == 0 or val2 == 130:\n",
    "                val2 = 90\n",
    "                \n",
    "            tempreading = uniform(20.0,25.0)\n",
    "            mqttc.publish(\"Status\", val2, qos=1)\n",
    "            count1 = 0\n",
    "                \n",
    "        count1 += 1\n",
    "        \n",
    "    count2 += 1\n",
    "\n",
    "    \n",
    "    cv2.imshow('img', img)\n",
    "    \n",
    "    \n",
    "\n",
    "    if cv2.waitKey(1) == 13: #13 is the Enter Key\n",
    "        break\n",
    "        \n",
    "cap.release()\n",
    "cv2.destroyAllWindows()\n"
   ]
  },
  {
   "cell_type": "raw",
   "metadata": {},
   "source": [
    "#Open Webcam\n",
    "while(True):\n",
    "    \n",
    "    ret, img = cap.read()\n",
    "    faces2 = clas.detectMultiScale(img, 1.3, 5)\n",
    "    \n",
    "    for (x,y,w,h) in faces2:\n",
    "        if w > 70:\n",
    "            #circle(frame, Point2i(x-coordinate, y-coordinate), 5, Scalar(0,125,230), 4, 3);\n",
    "            cv2.line(img, (thresh1, 0), (thresh1, 480), (10,90,200), 1)\n",
    "            cv2.line(img, (thresh2, 0), (thresh2, 480), (10,90,200), 1)\n",
    "            \n",
    "            cv2.rectangle(img,(x,y),(x+w,y+h),(105,200,100),3) \n",
    "            \n",
    "            x1 = int(x+w/2)-2\n",
    "            y1 = int(y+h/2)-2\n",
    "            \n",
    "            cv2.rectangle(img,(x1,y1),(x1+2,y1+2),(105,200,100),3)\n",
    "            cv2.rectangle(img,(0,240),(0+10,240+20),(140,150,230),5)\n",
    "            cv2.rectangle(img,(640,255),(640-10,255-20),(140,150,230),5)\n",
    "            \n",
    "            #print(x1)       \n",
    "            if x1 < thresh1: ###thresh1 = 180\n",
    "                cv2.putText(img, \"move left\", (155,50), cv2.FONT_HERSHEY_COMPLEX_SMALL, 2,(120,20,255),2)\n",
    "                val = round((thresh1 - x1)/control)\n",
    "                val = abs(temp + val)\n",
    "                \n",
    "                if (connflag == True) and (count >= control2):\n",
    "                    tempreading = uniform(20.0,25.0)\n",
    "                    mqttc.publish(\"Status\", val, qos=1)\n",
    "                    count = 0\n",
    "                    temp = val\n",
    "\n",
    "\n",
    "                \n",
    "            elif x1 > thresh2: ###thresh2 = 460\n",
    "                cv2.putText(img, \"move right\", (155,50), cv2.FONT_HERSHEY_COMPLEX_SMALL, 2,(120,20,255),2)\n",
    "                val = round((thresh2 - x1)/control)\n",
    "                val = abs(temp + val)\n",
    "                if (connflag == True) and (count >= control2):\n",
    "                    tempreading = uniform(20.0,25.0)\n",
    "                    mqttc.publish(\"Status\", val, qos=1)\n",
    "                    count = 0\n",
    "                    temp = val\n",
    "\n",
    "                                    \n",
    "\n",
    "            count += 1\n",
    "            count2 = 0\n",
    "        #count2 = 0\n",
    "            \n",
    "\n",
    "    if (faces2 == ()) and (count2 >= control3):\n",
    "        cv2.putText(img, \"No Face\", (185,50), cv2.FONT_HERSHEY_COMPLEX_SMALL, 3,(80,130,230),3)\n",
    "        \n",
    "        if cou:\n",
    "            cv2.putText(img, \"Self Rotation Activated\", (55,150), cv2.FONT_HERSHEY_COMPLEX_SMALL , 2, (10,250,30), 3, lineType=True)\n",
    "            cou = False\n",
    "        \n",
    "        elif not cou:\n",
    "            cv2.putText(img, \"\", (55,150), cv2.FONT_HERSHEY_COMPLEX_SMALL, 2,(90,200,60),3, lineType=True)\n",
    "            cou = True\n",
    "\n",
    "        temp = 90\n",
    "        temp2 = 90\n",
    "        if (connflag == True) and (count1 >= 70):\n",
    "            if val2 == 90:\n",
    "                val2 = -180\n",
    "                    \n",
    "            elif val2 == -180:\n",
    "                val2 = 180\n",
    "                \n",
    "            elif val2 == 0 or val2 == 180:\n",
    "                val2 = 90\n",
    "                \n",
    "            tempreading = uniform(20.0,25.0)\n",
    "            mqttc.publish(\"Status\", val2, qos=1)\n",
    "            count1 = 0\n",
    "                \n",
    "        count1 += 1\n",
    "        \n",
    "    count2 += 1\n",
    "\n",
    "    \n",
    "    cv2.imshow('img',img)\n",
    "    \n",
    "    \n",
    "\n",
    "    if cv2.waitKey(1) == 13: #13 is the Enter Key\n",
    "        break\n",
    "        \n",
    "cap.release()\n",
    "cv2.destroyAllWindows()"
   ]
  },
  {
   "cell_type": "markdown",
   "metadata": {},
   "source": [
    "## NOTE "
   ]
  },
  {
   "cell_type": "raw",
   "metadata": {},
   "source": [
    "(360, 640, 3) ### shape\n",
    "(ht , wt , channel)\n",
    "(x ,y , channel)"
   ]
  }
 ],
 "metadata": {
  "kernelspec": {
   "display_name": "Python 3",
   "language": "python",
   "name": "python3"
  },
  "language_info": {
   "codemirror_mode": {
    "name": "ipython",
    "version": 3
   },
   "file_extension": ".py",
   "mimetype": "text/x-python",
   "name": "python",
   "nbconvert_exporter": "python",
   "pygments_lexer": "ipython3",
   "version": "3.7.4"
  }
 },
 "nbformat": 4,
 "nbformat_minor": 2
}
